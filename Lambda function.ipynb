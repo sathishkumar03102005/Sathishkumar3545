{
  "nbformat": 4,
  "nbformat_minor": 0,
  "metadata": {
    "colab": {
      "provenance": [],
      "authorship_tag": "ABX9TyNgDPETj69IP3wBbA12dRqg",
      "include_colab_link": true
    },
    "kernelspec": {
      "name": "python3",
      "display_name": "Python 3"
    },
    "language_info": {
      "name": "python"
    }
  },
  "cells": [
    {
      "cell_type": "markdown",
      "metadata": {
        "id": "view-in-github",
        "colab_type": "text"
      },
      "source": [
        "<a href=\"https://colab.research.google.com/github/sathishkumar03102005/Sathishkumar3545/blob/main/Lambda%20function.ipynb\" target=\"_parent\"><img src=\"https://colab.research.google.com/assets/colab-badge.svg\" alt=\"Open In Colab\"/></a>"
      ]
    },
    {
      "cell_type": "code",
      "source": [
        "# Lambda function to add two numbers\n",
        "add = lambda x, y: x + y\n",
        "print(\"Addition:\", add(5, 3))\n",
        "\n",
        "# Lambda function to square a number\n",
        "square = lambda x: x ** 2\n",
        "print(\"Square:\", square(4))\n",
        "\n",
        "# Lambda function to filter even numbers\n",
        "numbers = [1, 2, 3, 4, 5, 6]\n",
        "even_numbers = list(filter(lambda x: x % 2 == 0, numbers))\n",
        "print(\"Even numbers:\", even_numbers)\n",
        "\n",
        "# Lambda function to sort numbers in descending order\n",
        "numbers.sort(key=lambda x: -x)\n",
        "print(\"Sorted numbers in descending order:\", numbers)"
      ],
      "metadata": {
        "colab": {
          "base_uri": "https://localhost:8080/"
        },
        "id": "6jM3cm1UivRk",
        "outputId": "fa2c9257-582b-482e-fdd2-f032eda085b1"
      },
      "execution_count": 17,
      "outputs": [
        {
          "output_type": "stream",
          "name": "stdout",
          "text": [
            "Addition: 8\n",
            "Square: 16\n",
            "Even numbers: [2, 4, 6]\n",
            "Sorted numbers in descending order: [6, 5, 4, 3, 2, 1]\n"
          ]
        }
      ]
    }
  ]
}