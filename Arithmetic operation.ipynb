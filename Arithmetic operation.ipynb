{
  "nbformat": 4,
  "nbformat_minor": 0,
  "metadata": {
    "colab": {
      "provenance": [],
      "authorship_tag": "ABX9TyNMfi7auOW9fJYlaKcCi6tZ",
      "include_colab_link": true
    },
    "kernelspec": {
      "name": "python3",
      "display_name": "Python 3"
    },
    "language_info": {
      "name": "python"
    }
  },
  "cells": [
    {
      "cell_type": "markdown",
      "metadata": {
        "id": "view-in-github",
        "colab_type": "text"
      },
      "source": [
        "<a href=\"https://colab.research.google.com/github/sathishkumar03102005/Sathishkumar3545/blob/main/Arithmetic%20operation.ipynb\" target=\"_parent\"><img src=\"https://colab.research.google.com/assets/colab-badge.svg\" alt=\"Open In Colab\"/></a>"
      ]
    },
    {
      "cell_type": "code",
      "source": [
        "# Declare variables\n",
        "num1 = 10\n",
        "num2 = 5\n",
        "\n",
        "# Addition\n",
        "addition = num1 + num2\n",
        "print(\"Addition:\", num1, \"+\", num2, \"=\", addition)\n",
        "\n",
        "# Subtraction\n",
        "subtraction = num1 - num2\n",
        "print(\"Subtraction:\", num1, \"-\", num2, \"=\", subtraction)"
      ],
      "metadata": {
        "colab": {
          "base_uri": "https://localhost:8080/"
        },
        "id": "DYdSwM5Pb1u9",
        "outputId": "49240050-c1bd-4e71-cedd-17ca5d49d84f"
      },
      "execution_count": 6,
      "outputs": [
        {
          "output_type": "stream",
          "name": "stdout",
          "text": [
            "Addition: 10 + 5 = 15\n",
            "Subtraction: 10 - 5 = 5\n"
          ]
        }
      ]
    }
  ]
}