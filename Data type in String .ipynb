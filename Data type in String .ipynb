{
  "cells": [
    {
      "cell_type": "markdown",
      "metadata": {
        "id": "view-in-github",
        "colab_type": "text"
      },
      "source": [
        "<a href=\"https://colab.research.google.com/github/sathishkumar03102005/Sathishkumar3545/blob/main/Data%20type%20in%20String%20.ipynb\" target=\"_parent\"><img src=\"https://colab.research.google.com/assets/colab-badge.svg\" alt=\"Open In Colab\"/></a>"
      ]
    },
    {
      "cell_type": "code",
      "source": [
        "\n",
        "# String Program\n",
        "\n",
        "def main():\n",
        "    # String declaration\n",
        "    name = \"John Doe\"\n",
        "\n",
        "    # String concatenation\n",
        "    greeting = \"Hello, \" + name + \"!\"\n",
        "    print(greeting)\n",
        "\n",
        "    # String length\n",
        "    print(\"Length of name:\", len(name))\n",
        "\n",
        "    # String indexing\n",
        "    print(\"First character of name:\", name[0])\n",
        "\n",
        "    # String slicing\n",
        "    print(\"First 4 characters of name:\", name[:4])\n",
        "\n",
        "    # String methods\n",
        "    print(\"Uppercase name:\", name.upper())\n",
        "    print(\"Lowercase name:\", name.lower())\n",
        "\n",
        "if __name__ == \"__main__\":\n",
        "    main()"
      ],
      "metadata": {
        "id": "4eMcjX0xVY-C",
        "outputId": "a8b00486-0a4e-45ad-b65f-ca9a44f5cf35",
        "colab": {
          "base_uri": "https://localhost:8080/"
        }
      },
      "execution_count": 2,
      "outputs": [
        {
          "output_type": "stream",
          "name": "stdout",
          "text": [
            "Hello, John Doe!\n",
            "Length of name: 8\n",
            "First character of name: J\n",
            "First 4 characters of name: John\n",
            "Uppercase name: JOHN DOE\n",
            "Lowercase name: john doe\n"
          ]
        }
      ]
    }
  ],
  "metadata": {
    "colab": {
      "name": "Welcome to Colab",
      "provenance": [],
      "include_colab_link": true
    },
    "kernelspec": {
      "display_name": "Python 3",
      "name": "python3"
    }
  },
  "nbformat": 4,
  "nbformat_minor": 0
}