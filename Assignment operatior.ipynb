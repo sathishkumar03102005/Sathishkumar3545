{
  "nbformat": 4,
  "nbformat_minor": 0,
  "metadata": {
    "colab": {
      "provenance": [],
      "authorship_tag": "ABX9TyMeOEOsPlNBMUUGqttBYwC+",
      "include_colab_link": true
    },
    "kernelspec": {
      "name": "python3",
      "display_name": "Python 3"
    },
    "language_info": {
      "name": "python"
    }
  },
  "cells": [
    {
      "cell_type": "markdown",
      "metadata": {
        "id": "view-in-github",
        "colab_type": "text"
      },
      "source": [
        "<a href=\"https://colab.research.google.com/github/sathishkumar03102005/Sathishkumar3545/blob/main/Assignment%20operatior.ipynb\" target=\"_parent\"><img src=\"https://colab.research.google.com/assets/colab-badge.svg\" alt=\"Open In Colab\"/></a>"
      ]
    },
    {
      "cell_type": "code",
      "source": [
        "# Declare a variable\n",
        "x = 10\n",
        "\n",
        "# Multiplication assignment\n",
        "x *= 2  # equivalent to x = x * 2\n",
        "print(\"Multiplication Assignment:\", x)\n",
        "\n",
        "# Division assignment\n",
        "x /= 2  # equivalent to x = x / 2\n",
        "print(\"Division Assignment:\", x)"
      ],
      "metadata": {
        "colab": {
          "base_uri": "https://localhost:8080/"
        },
        "id": "Y_3xNIp3cRMg",
        "outputId": "67005f33-db0b-45c5-9206-ed122ec05154"
      },
      "execution_count": 7,
      "outputs": [
        {
          "output_type": "stream",
          "name": "stdout",
          "text": [
            "Multiplication Assignment: 20\n",
            "Division Assignment: 10.0\n"
          ]
        }
      ]
    }
  ]
}