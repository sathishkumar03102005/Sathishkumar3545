{
  "nbformat": 4,
  "nbformat_minor": 0,
  "metadata": {
    "colab": {
      "provenance": [],
      "authorship_tag": "ABX9TyN+64NR8t9bK6jQ3C0/XCry",
      "include_colab_link": true
    },
    "kernelspec": {
      "name": "python3",
      "display_name": "Python 3"
    },
    "language_info": {
      "name": "python"
    }
  },
  "cells": [
    {
      "cell_type": "markdown",
      "metadata": {
        "id": "view-in-github",
        "colab_type": "text"
      },
      "source": [
        "<a href=\"https://colab.research.google.com/github/sathishkumar03102005/Sathishkumar3545/blob/main/Aadhar%20fill%20up%20form.ipynb\" target=\"_parent\"><img src=\"https://colab.research.google.com/assets/colab-badge.svg\" alt=\"Open In Colab\"/></a>"
      ]
    },
    {
      "cell_type": "code",
      "source": [
        "class AadhaarRegistration:\n",
        "    def __init__(self):\n",
        "        self.name = \"\"\n",
        "        self.date_of_birth = \"\"\n",
        "        self.address = \"\"\n",
        "        self.mobile_number = \"\"\n",
        "        self.email_id = \"\"\n",
        "\n",
        "    def fill_form(self):\n",
        "        self.name = input(\"Enter your full name: \")\n",
        "        self.date_of_birth = input(\"Enter your date of birth (DD/MM/YYYY): \")\n",
        "        self.address = input(\"Enter your address: \")\n",
        "        self.mobile_number = input(\"Enter your mobile number: \")\n",
        "        self.email_id = input(\"Enter your email ID: \")\n",
        "\n",
        "    def display_details(self):\n",
        "        print(\"\\nAadhaar Registration Details:\")\n",
        "        print(f\"Name: {self.name}\")\n",
        "        print(f\"Date of Birth: {self.date_of_birth}\")\n",
        "        print(f\"Address: {self.address}\")\n",
        "        print(f\"Mobile Number: {self.mobile_number}\")\n",
        "        print(f\"Email ID: {self.email_id}\")\n",
        "\n",
        "def main():\n",
        "    registration = AadhaarRegistration()\n",
        "    print(\"Aadhaar Registration Form\")\n",
        "    registration.fill_form()\n",
        "    registration.display_details()\n",
        "\n",
        "if __name__ == \"__main__\":\n",
        "    main()"
      ],
      "metadata": {
        "colab": {
          "base_uri": "https://localhost:8080/"
        },
        "id": "dPswcammlDCj",
        "outputId": "2cae3e3c-583f-491d-d2b0-44e6ab44589c"
      },
      "execution_count": 22,
      "outputs": [
        {
          "output_type": "stream",
          "name": "stdout",
          "text": [
            "Aadhaar Registration Form\n",
            "Enter your full name: Sathish kumar \n",
            "Enter your date of birth (DD/MM/YYYY): 03.10.2005\n",
            "Enter your address: No1 pillayar kovil street wall tax road chennai-03\n",
            "Enter your mobile number: 9789668224\n",
            "Enter your email ID: Sathishkumar96071@gmail.com\n",
            "\n",
            "Aadhaar Registration Details:\n",
            "Name: Sathish kumar \n",
            "Date of Birth: 03.10.2005\n",
            "Address: No1 pillayar kovil street wall tax road chennai-03\n",
            "Mobile Number: 9789668224\n",
            "Email ID: Sathishkumar96071@gmail.com\n"
          ]
        }
      ]
    }
  ]
}