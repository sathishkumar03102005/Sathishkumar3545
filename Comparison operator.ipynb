{
  "nbformat": 4,
  "nbformat_minor": 0,
  "metadata": {
    "colab": {
      "provenance": [],
      "authorship_tag": "ABX9TyNrYxCL0bSuPj7CAJjjUIec"
    },
    "kernelspec": {
      "name": "python3",
      "display_name": "Python 3"
    },
    "language_info": {
      "name": "python"
    }
  },
  "cells": [
    {
      "cell_type": "code",
      "source": [
        "# Declare variables\n",
        "A = 10\n",
        "B = 5\n",
        "\n",
        "# Comparison operators\n",
        "print(\"A == B (Equal):\", A == B)\n",
        "print(\"A != B (Not Equal):\", A != B)\n",
        "print(\"A > B (Greater Than):\", A > B)\n",
        "print(\"A < B (Less Than):\", A < B)\n",
        "print(\"A >= B (Greater Than or Equal):\", A >= B)\n",
        "print(\"A <= B (Less Than or Equal):\", A <= B)"
      ],
      "metadata": {
        "colab": {
          "base_uri": "https://localhost:8080/"
        },
        "id": "65VZ_w5AeMrI",
        "outputId": "76876159-7c5c-4ad5-c972-b9297e6f59cc"
      },
      "execution_count": 9,
      "outputs": [
        {
          "output_type": "stream",
          "name": "stdout",
          "text": [
            "A == B (Equal): False\n",
            "A != B (Not Equal): True\n",
            "A > B (Greater Than): True\n",
            "A < B (Less Than): False\n",
            "A >= B (Greater Than or Equal): True\n",
            "A <= B (Less Than or Equal): False\n"
          ]
        }
      ]
    }
  ]
}