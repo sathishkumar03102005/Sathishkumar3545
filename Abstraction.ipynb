{
  "nbformat": 4,
  "nbformat_minor": 0,
  "metadata": {
    "colab": {
      "provenance": [],
      "authorship_tag": "ABX9TyNv2fXFZhDHntNDFdKTdadM"
    },
    "kernelspec": {
      "name": "python3",
      "display_name": "Python 3"
    },
    "language_info": {
      "name": "python"
    }
  },
  "cells": [
    {
      "cell_type": "code",
      "source": [
        "# Abstract class: Person\n",
        "from abc import ABC, abstractmethod\n",
        "\n",
        "class Person(ABC):\n",
        "    def __init__(self, name, age):\n",
        "        self.name = name\n",
        "        self.age = age\n",
        "\n",
        "    @abstractmethod\n",
        "    def display_details(self):\n",
        "        pass\n",
        "\n",
        "    @abstractmethod\n",
        "    def work(self):\n",
        "        pass\n",
        "\n",
        "# Concrete class: Employee\n",
        "class Employee(Person):\n",
        "    def __init__(self, name, age, employee_id):\n",
        "        super().__init__(name, age)\n",
        "        self.employee_id = employee_id\n",
        "\n",
        "    def display_details(self):\n",
        "        print(\"Name:\", self.name)\n",
        "        print(\"Age:\", self.age)\n",
        "        print(\"Employee ID:\", self.employee_id)\n",
        "\n",
        "    def work(self):\n",
        "        print(f\"{self.name} is working as an employee.\")\n",
        "\n",
        "# Concrete class: Student\n",
        "class Student(Person):\n",
        "    def __init__(self, name, age, student_id):\n",
        "        super().__init__(name, age)\n",
        "        self.student_id = student_id\n",
        "\n",
        "    def display_details(self):\n",
        "        print(\"Name:\", self.name)\n",
        "        print(\"Age:\", self.age)\n",
        "        print(\"Student ID:\", self.student_id)\n",
        "\n",
        "    def work(self):\n",
        "        print(f\"{self.name} is studying.\")\n",
        "\n",
        "# Create instances\n",
        "employee = Employee(\"John Doe\", 30, \"E123\")\n",
        "student = Student(\"Jane Doe\", 20, \"S456\")\n",
        "\n",
        "# Display details and work\n",
        "employee.display_details()\n",
        "employee.work()\n",
        "print()\n",
        "student.display_details()\n",
        "student.work()"
      ],
      "metadata": {
        "colab": {
          "base_uri": "https://localhost:8080/"
        },
        "id": "j_Qs3W-xgHBV",
        "outputId": "bf7b1071-7c6e-4e0f-f2ab-51bc97f29fad"
      },
      "execution_count": 12,
      "outputs": [
        {
          "output_type": "stream",
          "name": "stdout",
          "text": [
            "Name: John Doe\n",
            "Age: 30\n",
            "Employee ID: E123\n",
            "John Doe is working as an employee.\n",
            "\n",
            "Name: Jane Doe\n",
            "Age: 20\n",
            "Student ID: S456\n",
            "Jane Doe is studying.\n"
          ]
        }
      ]
    }
  ]
}