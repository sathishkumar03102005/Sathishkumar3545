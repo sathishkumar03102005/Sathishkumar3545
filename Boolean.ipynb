{
  "nbformat": 4,
  "nbformat_minor": 0,
  "metadata": {
    "colab": {
      "provenance": [],
      "authorship_tag": "ABX9TyNd+5oEJLPnHJOEA8DZakXU",
      "include_colab_link": true
    },
    "kernelspec": {
      "name": "python3",
      "display_name": "Python 3"
    },
    "language_info": {
      "name": "python"
    }
  },
  "cells": [
    {
      "cell_type": "markdown",
      "metadata": {
        "id": "view-in-github",
        "colab_type": "text"
      },
      "source": [
        "<a href=\"https://colab.research.google.com/github/sathishkumar03102005/Sathishkumar3545/blob/main/Boolean.ipynb\" target=\"_parent\"><img src=\"https://colab.research.google.com/assets/colab-badge.svg\" alt=\"Open In Colab\"/></a>"
      ]
    },
    {
      "cell_type": "code",
      "execution_count": 1,
      "metadata": {
        "colab": {
          "base_uri": "https://localhost:8080/"
        },
        "id": "TvpxcDomm7Tf",
        "outputId": "9e42db33-9e87-4e1b-b47b-ccded6bda915"
      },
      "outputs": [
        {
          "output_type": "stream",
          "name": "stdout",
          "text": [
            "Enter a number: 20\n",
            "Is the number positive? True\n"
          ]
        }
      ],
      "source": [
        "# Simple Boolean program\n",
        "\n",
        "number = int(input(\"Enter a number: \"))\n",
        "\n",
        "is_positive = number > 0  # Boolean condition\n",
        "\n",
        "print(\"Is the number positive?\", is_positive)"
      ]
    }
  ]
}