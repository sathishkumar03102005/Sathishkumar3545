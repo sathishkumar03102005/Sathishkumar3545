{
  "nbformat": 4,
  "nbformat_minor": 0,
  "metadata": {
    "colab": {
      "provenance": [],
      "authorship_tag": "ABX9TyOW87PvjgXl9TFDHnFBvC9G",
      "include_colab_link": true
    },
    "kernelspec": {
      "name": "python3",
      "display_name": "Python 3"
    },
    "language_info": {
      "name": "python"
    }
  },
  "cells": [
    {
      "cell_type": "markdown",
      "metadata": {
        "id": "view-in-github",
        "colab_type": "text"
      },
      "source": [
        "<a href=\"https://colab.research.google.com/github/sathishkumar03102005/Sathishkumar3545/blob/main/Boolean.ipynb\" target=\"_parent\"><img src=\"https://colab.research.google.com/assets/colab-badge.svg\" alt=\"Open In Colab\"/></a>"
      ]
    },
    {
      "cell_type": "code",
      "source": [
        "# Declare Boolean variables\n",
        "a = True\n",
        "b = False\n",
        "\n",
        "# Logical operations\n",
        "print(\"AND:\", a and b)\n",
        "print(\"OR:\", a or b)\n",
        "print(\"NOT:\", not a)\n",
        "print(\"NOT:\", not b)\n",
        "\n",
        "# Comparison operations\n",
        "print(\"Equal:\", a == b)\n",
        "print(\"Not Equal:\", a != b)\n",
        "\n",
        "# Conditional statements\n",
        "if a:\n",
        "    print(\"a is True\")\n",
        "else:\n",
        "    print(\"a is False\")\n",
        "\n",
        "if not b:\n",
        "    print(\"b is False\")\n",
        "else:\n",
        "    print(\"b is True\")"
      ],
      "metadata": {
        "colab": {
          "base_uri": "https://localhost:8080/"
        },
        "id": "rng66dG_aorw",
        "outputId": "628928c6-06a7-4401-fdd8-69154d619e9b"
      },
      "execution_count": 4,
      "outputs": [
        {
          "output_type": "stream",
          "name": "stdout",
          "text": [
            "AND: False\n",
            "OR: True\n",
            "NOT: False\n",
            "NOT: True\n",
            "Equal: False\n",
            "Not Equal: True\n",
            "a is True\n",
            "b is False\n"
          ]
        }
      ]
    }
  ]
}