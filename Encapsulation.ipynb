{
  "nbformat": 4,
  "nbformat_minor": 0,
  "metadata": {
    "colab": {
      "provenance": [],
      "authorship_tag": "ABX9TyNjz06Wbv8m7gTNI5CQQd29",
      "include_colab_link": true
    },
    "kernelspec": {
      "name": "python3",
      "display_name": "Python 3"
    },
    "language_info": {
      "name": "python"
    }
  },
  "cells": [
    {
      "cell_type": "markdown",
      "metadata": {
        "id": "view-in-github",
        "colab_type": "text"
      },
      "source": [
        "<a href=\"https://colab.research.google.com/github/sathishkumar03102005/Sathishkumar3545/blob/main/Encapsulation.ipynb\" target=\"_parent\"><img src=\"https://colab.research.google.com/assets/colab-badge.svg\" alt=\"Open In Colab\"/></a>"
      ]
    },
    {
      "cell_type": "code",
      "execution_count": 1,
      "metadata": {
        "colab": {
          "base_uri": "https://localhost:8080/"
        },
        "id": "Ekoo5EPOjEXW",
        "outputId": "788c7e07-4fc5-4a5e-fd57-1c8eea28f6fa"
      },
      "outputs": [
        {
          "output_type": "stream",
          "name": "stdout",
          "text": [
            "Name: Alice\n",
            "Age: 25\n",
            "Updated Name: Bob\n",
            "Updated Age: 30\n",
            "Age must be positive.\n"
          ]
        }
      ],
      "source": [
        "#Encapsulation\n",
        "class Person:\n",
        "    def __init__(self, name, age):\n",
        "        self.__name = name    # Private attribute\n",
        "        self.__age = age      # Private attribute\n",
        "\n",
        "    # Getter method for name\n",
        "    def get_name(self):\n",
        "        return self.__name\n",
        "\n",
        "    # Setter method for name\n",
        "    def set_name(self, name):\n",
        "        self.__name = name\n",
        "\n",
        "    # Getter method for age\n",
        "    def get_age(self):\n",
        "        return self.__age\n",
        "\n",
        "    # Setter method for age\n",
        "    def set_age(self, age):\n",
        "        if age > 0:\n",
        "            self.__age = age\n",
        "        else:\n",
        "            print(\"Age must be positive.\")\n",
        "\n",
        "# Using the class\n",
        "person1 = Person(\"Alice\", 25)\n",
        "\n",
        "# Accessing private variables through methods\n",
        "print(\"Name:\", person1.get_name())\n",
        "print(\"Age:\", person1.get_age())\n",
        "\n",
        "# Trying to set a new name and age\n",
        "person1.set_name(\"Bob\")\n",
        "person1.set_age(30)\n",
        "\n",
        "print(\"Updated Name:\", person1.get_name())\n",
        "print(\"Updated Age:\", person1.get_age())\n",
        "\n",
        "# Trying to set an invalid age\n",
        "person1.set_age(-5)"
      ]
    }
  ]
}